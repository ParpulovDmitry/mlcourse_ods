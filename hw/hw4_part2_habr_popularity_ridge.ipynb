{
 "cells": [
  {
   "cell_type": "markdown",
   "metadata": {},
   "source": [
    "<center>\n",
    "<img src=\"../../img/ods_stickers.jpg\">\n",
    "## Открытый курс по машинному обучению\n",
    "</center>\n",
    "<center>Автор материала: Ольга Дайховская"
   ]
  },
  {
   "cell_type": "markdown",
   "metadata": {},
   "source": [
    "# <center> Домашнее задание № 4. Часть 2\n",
    "## <center>  Прогнозирование популярности статей на TechMedia с помощью линейных моделей\n",
    "\n",
    "**В задании Вам предлагается разобраться с тем, как работает TfidfVectorizer и DictVectorizer, затем обучить и настроить модель линейной регрессии Ridge на данных о публикациях на Хабрахабре. Пройдя все шаги, вы сможете получить бейзлайн для [соревнования](https://inclass.kaggle.com/c/howpop-habrahabr-favs-lognorm). \n",
    "Ответьте на все вопросы в этой тетрадке и заполните ответы в [гугл-форме](https://docs.google.com/forms/d/e/1FAIpQLSd8E7naU38ikc9-rd31KeVfez3emCo4Ok1WrpQTr-XCDelRiw/viewform).**"
   ]
  },
  {
   "cell_type": "markdown",
   "metadata": {},
   "source": [
    "**Описание соревнования**\n",
    "\n",
    "Предскажите, как много звездочек наберет статья, зная только ее текст и время публикации\n",
    "\n",
    "Необходимо предсказать популярность поста на Хабре по содержанию и времени публикации. Как известно, пользователи Хабра могут добавлять статьи к себе в избранное. Общее количество пользователей, которое это сделали отображается у статьи количеством звездочек. Будем считать, что число звездочек, поставленных статье, наиболее хорошо отражает ее популярность.\n",
    "\n",
    "Более формально, в качестве метрики популярности статьи будем использовать долю статей за последний месяц, у которых количество звездочек меньше чем у текущей статьи. А точнее, доле числа звездочек можно поставить в соответствие квантили стандартного распределения, таким образом получаем числовую характеристику популярности статьи. Популярность статьи 0 означает, что статья получила ровно столько звездочек, сколько в среднем получают статьи. И соответственно чем больше звездочек получила статья по сравнению со средним, тем выше это число."
   ]
  },
  {
   "cell_type": "markdown",
   "metadata": {},
   "source": [
    "**Приступим:** импортируем необходимые библиотеки и скачаем данные"
   ]
  },
  {
   "cell_type": "code",
   "execution_count": 1,
   "metadata": {
    "collapsed": false
   },
   "outputs": [],
   "source": [
    "import pandas as pd\n",
    "\n",
    "from sklearn.feature_extraction.text import TfidfVectorizer\n",
    "from sklearn.feature_extraction import DictVectorizer\n",
    "\n",
    "#В зависимости от версии sklearn\n",
    "from sklearn.model_selection import train_test_split\n",
    "#from sklearn.cross_validation import train_test_split\n",
    "\n",
    "from sklearn.linear_model import Ridge\n",
    "from sklearn.metrics import mean_squared_error\n",
    "\n",
    "import numpy as np\n",
    "import scipy\n",
    "\n",
    "%matplotlib inline\n",
    "from matplotlib import pyplot as plt"
   ]
  },
  {
   "cell_type": "code",
   "execution_count": 2,
   "metadata": {
    "collapsed": false,
    "scrolled": true
   },
   "outputs": [],
   "source": [
    "train_df = pd.read_csv('habr_data/howpop_train.csv')\n",
    "test_df  = pd.read_csv('habr_data/howpop_test.csv')"
   ]
  },
  {
   "cell_type": "code",
   "execution_count": 3,
   "metadata": {
    "collapsed": false
   },
   "outputs": [
    {
     "data": {
      "text/html": [
       "<div>\n",
       "<table border=\"1\" class=\"dataframe\">\n",
       "  <thead>\n",
       "    <tr style=\"text-align: right;\">\n",
       "      <th></th>\n",
       "      <th>0</th>\n",
       "    </tr>\n",
       "  </thead>\n",
       "  <tbody>\n",
       "    <tr>\n",
       "      <th>url</th>\n",
       "      <td>https://habrahabr.ru/post/18284/</td>\n",
       "    </tr>\n",
       "    <tr>\n",
       "      <th>domain</th>\n",
       "      <td>habrahabr.ru</td>\n",
       "    </tr>\n",
       "    <tr>\n",
       "      <th>post_id</th>\n",
       "      <td>18284</td>\n",
       "    </tr>\n",
       "    <tr>\n",
       "      <th>published</th>\n",
       "      <td>2008-01-01 18:19:00</td>\n",
       "    </tr>\n",
       "    <tr>\n",
       "      <th>author</th>\n",
       "      <td>@Tapac</td>\n",
       "    </tr>\n",
       "    <tr>\n",
       "      <th>flow</th>\n",
       "      <td>develop</td>\n",
       "    </tr>\n",
       "    <tr>\n",
       "      <th>polling</th>\n",
       "      <td>False</td>\n",
       "    </tr>\n",
       "    <tr>\n",
       "      <th>content_len</th>\n",
       "      <td>4305</td>\n",
       "    </tr>\n",
       "    <tr>\n",
       "      <th>title</th>\n",
       "      <td>Новогодний подарок блоггерам — WordPress 2.3.2</td>\n",
       "    </tr>\n",
       "    <tr>\n",
       "      <th>comments</th>\n",
       "      <td>0</td>\n",
       "    </tr>\n",
       "    <tr>\n",
       "      <th>favs</th>\n",
       "      <td>0</td>\n",
       "    </tr>\n",
       "    <tr>\n",
       "      <th>views</th>\n",
       "      <td>236</td>\n",
       "    </tr>\n",
       "    <tr>\n",
       "      <th>votes_plus</th>\n",
       "      <td>0</td>\n",
       "    </tr>\n",
       "    <tr>\n",
       "      <th>votes_minus</th>\n",
       "      <td>0</td>\n",
       "    </tr>\n",
       "    <tr>\n",
       "      <th>views_lognorm</th>\n",
       "      <td>-0.792687</td>\n",
       "    </tr>\n",
       "    <tr>\n",
       "      <th>favs_lognorm</th>\n",
       "      <td>-1.34407</td>\n",
       "    </tr>\n",
       "    <tr>\n",
       "      <th>comments_lognorm</th>\n",
       "      <td>-2.43687</td>\n",
       "    </tr>\n",
       "  </tbody>\n",
       "</table>\n",
       "</div>"
      ],
      "text/plain": [
       "                                                               0\n",
       "url                             https://habrahabr.ru/post/18284/\n",
       "domain                                              habrahabr.ru\n",
       "post_id                                                    18284\n",
       "published                                    2008-01-01 18:19:00\n",
       "author                                                    @Tapac\n",
       "flow                                                     develop\n",
       "polling                                                    False\n",
       "content_len                                                 4305\n",
       "title             Новогодний подарок блоггерам — WordPress 2.3.2\n",
       "comments                                                       0\n",
       "favs                                                           0\n",
       "views                                                        236\n",
       "votes_plus                                                     0\n",
       "votes_minus                                                    0\n",
       "views_lognorm                                          -0.792687\n",
       "favs_lognorm                                            -1.34407\n",
       "comments_lognorm                                        -2.43687"
      ]
     },
     "execution_count": 3,
     "metadata": {},
     "output_type": "execute_result"
    }
   ],
   "source": [
    "train_df.head(1).T"
   ]
  },
  {
   "cell_type": "code",
   "execution_count": 4,
   "metadata": {
    "collapsed": false
   },
   "outputs": [
    {
     "data": {
      "text/plain": [
       "((134137, 17), (3990, 9))"
      ]
     },
     "execution_count": 4,
     "metadata": {},
     "output_type": "execute_result"
    }
   ],
   "source": [
    "train_df.shape, test_df.shape"
   ]
  },
  {
   "cell_type": "markdown",
   "metadata": {},
   "source": [
    "Убедимся, что данные отсортированы по признаку `published`"
   ]
  },
  {
   "cell_type": "code",
   "execution_count": 5,
   "metadata": {
    "collapsed": false
   },
   "outputs": [
    {
     "data": {
      "image/png": "[encoded data removed]",
      "text/plain": [
       "<matplotlib.figure.Figure at 0x1137d1ad0>"
      ]
     },
     "metadata": {},
     "output_type": "display_data"
    }
   ],
   "source": [
    "train_df['published'].apply(lambda ts: pd.to_datetime(ts).value).plot();"
   ]
  },
  {
   "cell_type": "markdown",
   "metadata": {},
   "source": [
    "**Чтобы ответить на вопросы 1 и 2, можно использовать [pandas.DataFrame.corr()](http://pandas.pydata.org/pandas-docs/stable/generated/pandas.DataFrame.corr.html), [pandas.to_datetime()](http://pandas.pydata.org/pandas-docs/stable/generated/pandas.to_datetime.html) и [pandas.Series.value_counts()](http://pandas.pydata.org/pandas-docs/stable/generated/pandas.Series.value_counts.html)**"
   ]
  },
  {
   "cell_type": "markdown",
   "metadata": {},
   "source": [
    "<font color='red'>Вопрос 1.</font> Есть ли в train_df признаки, корреляция между которыми больше 0.9? Обратите внимание, именно различные признаки - корреляция признака с самим собой естественно больше 0.9 :)\n",
    "- да\n",
    "- нет\n",
    "- не знаю"
   ]
  },
  {
   "cell_type": "code",
   "execution_count": 6,
   "metadata": {
    "collapsed": false
   },
   "outputs": [
    {
     "data": {
      "text/html": [
       "<div>\n",
       "<table border=\"1\" class=\"dataframe\">\n",
       "  <thead>\n",
       "    <tr style=\"text-align: right;\">\n",
       "      <th></th>\n",
       "      <th>post_id</th>\n",
       "      <th>polling</th>\n",
       "      <th>content_len</th>\n",
       "      <th>comments</th>\n",
       "      <th>favs</th>\n",
       "      <th>views</th>\n",
       "      <th>votes_plus</th>\n",
       "      <th>votes_minus</th>\n",
       "      <th>views_lognorm</th>\n",
       "      <th>favs_lognorm</th>\n",
       "      <th>comments_lognorm</th>\n",
       "    </tr>\n",
       "  </thead>\n",
       "  <tbody>\n",
       "    <tr>\n",
       "      <th>post_id</th>\n",
       "      <td>True</td>\n",
       "      <td>False</td>\n",
       "      <td>False</td>\n",
       "      <td>False</td>\n",
       "      <td>False</td>\n",
       "      <td>False</td>\n",
       "      <td>False</td>\n",
       "      <td>False</td>\n",
       "      <td>False</td>\n",
       "      <td>False</td>\n",
       "      <td>False</td>\n",
       "    </tr>\n",
       "    <tr>\n",
       "      <th>polling</th>\n",
       "      <td>False</td>\n",
       "      <td>True</td>\n",
       "      <td>False</td>\n",
       "      <td>False</td>\n",
       "      <td>False</td>\n",
       "      <td>False</td>\n",
       "      <td>False</td>\n",
       "      <td>False</td>\n",
       "      <td>False</td>\n",
       "      <td>False</td>\n",
       "      <td>False</td>\n",
       "    </tr>\n",
       "    <tr>\n",
       "      <th>content_len</th>\n",
       "      <td>False</td>\n",
       "      <td>False</td>\n",
       "      <td>True</td>\n",
       "      <td>False</td>\n",
       "      <td>False</td>\n",
       "      <td>False</td>\n",
       "      <td>False</td>\n",
       "      <td>False</td>\n",
       "      <td>False</td>\n",
       "      <td>False</td>\n",
       "      <td>False</td>\n",
       "    </tr>\n",
       "    <tr>\n",
       "      <th>comments</th>\n",
       "      <td>False</td>\n",
       "      <td>False</td>\n",
       "      <td>False</td>\n",
       "      <td>True</td>\n",
       "      <td>False</td>\n",
       "      <td>False</td>\n",
       "      <td>False</td>\n",
       "      <td>False</td>\n",
       "      <td>False</td>\n",
       "      <td>False</td>\n",
       "      <td>False</td>\n",
       "    </tr>\n",
       "    <tr>\n",
       "      <th>favs</th>\n",
       "      <td>False</td>\n",
       "      <td>False</td>\n",
       "      <td>False</td>\n",
       "      <td>False</td>\n",
       "      <td>True</td>\n",
       "      <td>False</td>\n",
       "      <td>False</td>\n",
       "      <td>False</td>\n",
       "      <td>False</td>\n",
       "      <td>False</td>\n",
       "      <td>False</td>\n",
       "    </tr>\n",
       "    <tr>\n",
       "      <th>views</th>\n",
       "      <td>False</td>\n",
       "      <td>False</td>\n",
       "      <td>False</td>\n",
       "      <td>False</td>\n",
       "      <td>False</td>\n",
       "      <td>True</td>\n",
       "      <td>False</td>\n",
       "      <td>False</td>\n",
       "      <td>False</td>\n",
       "      <td>False</td>\n",
       "      <td>False</td>\n",
       "    </tr>\n",
       "    <tr>\n",
       "      <th>votes_plus</th>\n",
       "      <td>False</td>\n",
       "      <td>False</td>\n",
       "      <td>False</td>\n",
       "      <td>False</td>\n",
       "      <td>False</td>\n",
       "      <td>False</td>\n",
       "      <td>True</td>\n",
       "      <td>False</td>\n",
       "      <td>False</td>\n",
       "      <td>False</td>\n",
       "      <td>False</td>\n",
       "    </tr>\n",
       "    <tr>\n",
       "      <th>votes_minus</th>\n",
       "      <td>False</td>\n",
       "      <td>False</td>\n",
       "      <td>False</td>\n",
       "      <td>False</td>\n",
       "      <td>False</td>\n",
       "      <td>False</td>\n",
       "      <td>False</td>\n",
       "      <td>True</td>\n",
       "      <td>False</td>\n",
       "      <td>False</td>\n",
       "      <td>False</td>\n",
       "    </tr>\n",
       "    <tr>\n",
       "      <th>views_lognorm</th>\n",
       "      <td>False</td>\n",
       "      <td>False</td>\n",
       "      <td>False</td>\n",
       "      <td>False</td>\n",
       "      <td>False</td>\n",
       "      <td>False</td>\n",
       "      <td>False</td>\n",
       "      <td>False</td>\n",
       "      <td>True</td>\n",
       "      <td>False</td>\n",
       "      <td>False</td>\n",
       "    </tr>\n",
       "    <tr>\n",
       "      <th>favs_lognorm</th>\n",
       "      <td>False</td>\n",
       "      <td>False</td>\n",
       "      <td>False</td>\n",
       "      <td>False</td>\n",
       "      <td>False</td>\n",
       "      <td>False</td>\n",
       "      <td>False</td>\n",
       "      <td>False</td>\n",
       "      <td>False</td>\n",
       "      <td>True</td>\n",
       "      <td>False</td>\n",
       "    </tr>\n",
       "    <tr>\n",
       "      <th>comments_lognorm</th>\n",
       "      <td>False</td>\n",
       "      <td>False</td>\n",
       "      <td>False</td>\n",
       "      <td>False</td>\n",
       "      <td>False</td>\n",
       "      <td>False</td>\n",
       "      <td>False</td>\n",
       "      <td>False</td>\n",
       "      <td>False</td>\n",
       "      <td>False</td>\n",
       "      <td>True</td>\n",
       "    </tr>\n",
       "  </tbody>\n",
       "</table>\n",
       "</div>"
      ],
      "text/plain": [
       "                 post_id polling content_len comments   favs  views  \\\n",
       "post_id             True   False       False    False  False  False   \n",
       "polling            False    True       False    False  False  False   \n",
       "content_len        False   False        True    False  False  False   \n",
       "comments           False   False       False     True  False  False   \n",
       "favs               False   False       False    False   True  False   \n",
       "views              False   False       False    False  False   True   \n",
       "votes_plus         False   False       False    False  False  False   \n",
       "votes_minus        False   False       False    False  False  False   \n",
       "views_lognorm      False   False       False    False  False  False   \n",
       "favs_lognorm       False   False       False    False  False  False   \n",
       "comments_lognorm   False   False       False    False  False  False   \n",
       "\n",
       "                 votes_plus votes_minus views_lognorm favs_lognorm  \\\n",
       "post_id               False       False         False        False   \n",
       "polling               False       False         False        False   \n",
       "content_len           False       False         False        False   \n",
       "comments              False       False         False        False   \n",
       "favs                  False       False         False        False   \n",
       "views                 False       False         False        False   \n",
       "votes_plus             True       False         False        False   \n",
       "votes_minus           False        True         False        False   \n",
       "views_lognorm         False       False          True        False   \n",
       "favs_lognorm          False       False         False         True   \n",
       "comments_lognorm      False       False         False        False   \n",
       "\n",
       "                 comments_lognorm  \n",
       "post_id                     False  \n",
       "polling                     False  \n",
       "content_len                 False  \n",
       "comments                    False  \n",
       "favs                        False  \n",
       "views                       False  \n",
       "votes_plus                  False  \n",
       "votes_minus                 False  \n",
       "views_lognorm               False  \n",
       "favs_lognorm                False  \n",
       "comments_lognorm             True  "
      ]
     },
     "execution_count": 6,
     "metadata": {},
     "output_type": "execute_result"
    }
   ],
   "source": [
    "train_df.corr() > 0.9"
   ]
  },
  {
   "cell_type": "markdown",
   "metadata": {},
   "source": [
    "<font color='red'>Вопрос 2.</font> В каком году было больше всего публикаций? (Рассматриваем train_df)\n",
    "- 2014\n",
    "- 2015\n",
    "- 2016\n",
    "- 2017"
   ]
  },
  {
   "cell_type": "code",
   "execution_count": 7,
   "metadata": {
    "collapsed": false
   },
   "outputs": [
    {
     "data": {
      "text/plain": [
       "2015    23452\n",
       "2016    16316\n",
       "2014    16180\n",
       "2012    15972\n",
       "2013    15537\n",
       "2011    15063\n",
       "2010    13091\n",
       "2009    10783\n",
       "2008     7743\n",
       "Name: published, dtype: int64"
      ]
     },
     "execution_count": 7,
     "metadata": {},
     "output_type": "execute_result"
    }
   ],
   "source": [
    "train_df.published = pd.to_datetime(train_df.published)\n",
    "train_df.published.apply(lambda x: x.year).value_counts()"
   ]
  },
  {
   "cell_type": "markdown",
   "metadata": {},
   "source": [
    "## Разбиение на train/valid\n",
    "Используем только признаки 'author', 'flow', 'domain' и 'title'"
   ]
  },
  {
   "cell_type": "code",
   "execution_count": 8,
   "metadata": {
    "collapsed": true
   },
   "outputs": [],
   "source": [
    "features = ['author', 'flow', 'domain', 'title']\n",
    "train_size = int(0.7 * train_df.shape[0])"
   ]
  },
  {
   "cell_type": "code",
   "execution_count": 9,
   "metadata": {
    "collapsed": false
   },
   "outputs": [
    {
     "data": {
      "text/plain": [
       "(134137, 93895)"
      ]
     },
     "execution_count": 9,
     "metadata": {},
     "output_type": "execute_result"
    }
   ],
   "source": [
    "len(train_df),train_size"
   ]
  },
  {
   "cell_type": "code",
   "execution_count": 10,
   "metadata": {
    "collapsed": true
   },
   "outputs": [],
   "source": [
    "X, y = train_df.ix[:, features],  train_df['favs_lognorm'] #отделяем признаки от целевой переменной\n",
    "\n",
    "X_test = test_df.ix[:, features]"
   ]
  },
  {
   "cell_type": "code",
   "execution_count": 11,
   "metadata": {
    "collapsed": false
   },
   "outputs": [],
   "source": [
    "X_train, X_valid = X.iloc[:train_size, :], X.iloc[train_size:,:]\n",
    "\n",
    "y_train, y_valid = y.iloc[:train_size], y.iloc[train_size:]"
   ]
  },
  {
   "cell_type": "markdown",
   "metadata": {},
   "source": [
    "## Применение TfidfVectorizer\n",
    "\n",
    "**TF-IDF** (от англ. TF — term frequency, IDF — inverse document frequency) — статистическая мера, используемая для оценки важности слова в контексте документа, являющегося частью коллекции документов или корпуса. Вес некоторого слова пропорционален количеству употребления этого слова в документе, и обратно пропорционален частоте употребления слова в других документах коллекции. [Подробнее в источнике](https://ru.wikipedia.org/wiki/TF-IDF)\n",
    "\n",
    "TfidfVectorizer преобразует тексты в матрицу TF-IDF признаков.\n",
    "\n",
    "**Основные параметры TfidfVectorizer в sklearn:**\n",
    "- **min_df** - при построении словаря слова, которые встречаются *реже*, чем указанное значение, игнорируются\n",
    "- **max_df** - при построении словаря слова, которые встречаются *чаще*, чем указанное значение, игнорируются\n",
    "- **analyzer** - определяет, строятся ли признаки по словам или по символам (буквам)\n",
    "- **ngram_range** - определяет, формируются ли признаки только из отдельных слов или из нескольких слов (в случае с analyzer='char' задает количество символов). Например, если указать analyzer='word' и ngram_range=(1,3),то признаки будут формироваться из отдельных слов, из пар слов и из троек слов.\n",
    "- **stop_words** - слова, которые игнорируются при построении матрицы\n",
    "\n",
    "Более подробно с параметрами можно ознакомиться в [документации](http://scikit-learn.org/stable/modules/generated/sklearn.feature_extraction.text.TfidfVectorizer.html)"
   ]
  },
  {
   "cell_type": "markdown",
   "metadata": {},
   "source": [
    "**Инициализируйте TfidfVectorizer с параметрами min_df=3, max_df=0.3 и ngram_range=(1, 3).<br />\n",
    "Примените метод fit_transform к X_train['title'] и метод transform к X_valid['title'] и X_test['title']**"
   ]
  },
  {
   "cell_type": "markdown",
   "metadata": {},
   "source": [
    "<font color='red'>Вопрос 3.</font> Какой размер у полученного словаря?\n",
    "- 43789\n",
    "- 50624\n",
    "- 93895\n",
    "- 74378"
   ]
  },
  {
   "cell_type": "code",
   "execution_count": 12,
   "metadata": {
    "collapsed": false
   },
   "outputs": [],
   "source": [
    "vectorizer_title = TfidfVectorizer(min_df=3, max_df=0.3, ngram_range=(1, 3))\n",
    "\n",
    "X_train_title = vectorizer_title.fit_transform(X_train['title'])\n",
    "X_valid_title = vectorizer_title.transform(X_valid['title'])\n",
    "X_test_title = vectorizer_title.transform(X_test['title'])"
   ]
  },
  {
   "cell_type": "code",
   "execution_count": 13,
   "metadata": {
    "collapsed": false
   },
   "outputs": [
    {
     "data": {
      "text/plain": [
       "50624"
      ]
     },
     "execution_count": 13,
     "metadata": {},
     "output_type": "execute_result"
    }
   ],
   "source": [
    "#Можно посмотреть словарь в виде {'термин': индекс признака,...}\n",
    "len(vectorizer_title.vocabulary_)"
   ]
  },
  {
   "cell_type": "code",
   "execution_count": 14,
   "metadata": {
    "collapsed": false
   },
   "outputs": [
    {
     "data": {
      "text/plain": [
       "9065"
      ]
     },
     "execution_count": 14,
     "metadata": {},
     "output_type": "execute_result"
    }
   ],
   "source": [
    "vectorizer_title.vocabulary_[\"python\"]"
   ]
  },
  {
   "cell_type": "markdown",
   "metadata": {},
   "source": [
    "<font color='red'>Вопрос 4.</font> Какой индекс у слова 'python'?\n",
    "- 1\n",
    "- 10\n",
    "- 9065\n",
    "- 15679"
   ]
  },
  {
   "cell_type": "code",
   "execution_count": 15,
   "metadata": {
    "collapsed": true
   },
   "outputs": [],
   "source": [
    "#ваш код здесь"
   ]
  },
  {
   "cell_type": "markdown",
   "metadata": {},
   "source": [
    "**Инициализируйте TfidfVectorizer, указав analyzer='char'.<br />\n",
    "Примените метод fit_transform к X_train['title'] и метод transform к X_valid['title'] и X_test['title']**"
   ]
  },
  {
   "cell_type": "markdown",
   "metadata": {},
   "source": [
    "<font color='red'>Вопрос 5.</font> Какой размер у полученного словаря?\n",
    "- 218\n",
    "- 510\n",
    "- 125\n",
    "- 981"
   ]
  },
  {
   "cell_type": "code",
   "execution_count": 16,
   "metadata": {
    "collapsed": true
   },
   "outputs": [],
   "source": [
    "vectorizer_title_ch = TfidfVectorizer(analyzer=\"char\")\n",
    "\n",
    "X_train_title_ch = vectorizer_title_ch.fit_transform(X_train['title'])\n",
    "X_valid_title_ch = vectorizer_title_ch.transform(X_valid['title'])\n",
    "X_test_title_ch = vectorizer_title_ch.transform(X_test['title'])"
   ]
  },
  {
   "cell_type": "code",
   "execution_count": 17,
   "metadata": {
    "collapsed": false
   },
   "outputs": [
    {
     "data": {
      "text/plain": [
       "218"
      ]
     },
     "execution_count": 17,
     "metadata": {},
     "output_type": "execute_result"
    }
   ],
   "source": [
    "#Здесь так же можно посмотреть словарь\n",
    "#Заметьте насколько отличаются словари для TfidfVectorizer с analyzer='word' и analyzer='char'\n",
    "len(vectorizer_title_ch.vocabulary_)"
   ]
  },
  {
   "cell_type": "code",
   "execution_count": 18,
   "metadata": {
    "collapsed": false
   },
   "outputs": [
    {
     "data": {
      "text/plain": [
       "{u' ': 0,\n",
       " u'!': 1,\n",
       " u'\"': 2,\n",
       " u'#': 3,\n",
       " u'$': 4,\n",
       " u'%': 5,\n",
       " u'&': 6,\n",
       " u\"'\": 7,\n",
       " u'(': 8,\n",
       " u')': 9,\n",
       " u'*': 10,\n",
       " u'+': 11,\n",
       " u',': 12,\n",
       " u'-': 13,\n",
       " u'.': 14,\n",
       " u'/': 15,\n",
       " u'0': 16,\n",
       " u'1': 17,\n",
       " u'2': 18,\n",
       " u'3': 19,\n",
       " u'4': 20,\n",
       " u'5': 21,\n",
       " u'6': 22,\n",
       " u'7': 23,\n",
       " u'8': 24,\n",
       " u'9': 25,\n",
       " u':': 26,\n",
       " u';': 27,\n",
       " u'<': 28,\n",
       " u'=': 29,\n",
       " u'>': 30,\n",
       " u'?': 31,\n",
       " u'@': 32,\n",
       " u'[': 33,\n",
       " u'\\\\': 34,\n",
       " u']': 35,\n",
       " u'^': 36,\n",
       " u'_': 37,\n",
       " u'`': 38,\n",
       " u'a': 39,\n",
       " u'b': 40,\n",
       " u'c': 41,\n",
       " u'd': 42,\n",
       " u'e': 43,\n",
       " u'f': 44,\n",
       " u'g': 45,\n",
       " u'h': 46,\n",
       " u'i': 47,\n",
       " u'j': 48,\n",
       " u'k': 49,\n",
       " u'l': 50,\n",
       " u'm': 51,\n",
       " u'n': 52,\n",
       " u'o': 53,\n",
       " u'p': 54,\n",
       " u'q': 55,\n",
       " u'r': 56,\n",
       " u's': 57,\n",
       " u't': 58,\n",
       " u'u': 59,\n",
       " u'v': 60,\n",
       " u'w': 61,\n",
       " u'x': 62,\n",
       " u'y': 63,\n",
       " u'z': 64,\n",
       " u'{': 65,\n",
       " u'|': 66,\n",
       " u'}': 67,\n",
       " u'~': 68,\n",
       " u'\\x92': 69,\n",
       " u'\\x97': 70,\n",
       " u'\\xa0': 71,\n",
       " u'\\xa3': 72,\n",
       " u'\\xa5': 73,\n",
       " u'\\xa7': 74,\n",
       " u'\\xa9': 75,\n",
       " u'\\xab': 76,\n",
       " u'\\xad': 77,\n",
       " u'\\xae': 78,\n",
       " u'\\xb0': 79,\n",
       " u'\\xb1': 80,\n",
       " u'\\xb2': 81,\n",
       " u'\\xb5': 82,\n",
       " u'\\xb7': 83,\n",
       " u'\\xb9': 84,\n",
       " u'\\xbb': 85,\n",
       " u'\\xbc': 86,\n",
       " u'\\xbd': 87,\n",
       " u'\\xd7': 88,\n",
       " u'\\xe0': 89,\n",
       " u'\\xe1': 90,\n",
       " u'\\xe2': 91,\n",
       " u'\\xe4': 92,\n",
       " u'\\xe7': 93,\n",
       " u'\\xe9': 94,\n",
       " u'\\xeb': 95,\n",
       " u'\\xef': 96,\n",
       " u'\\xf1': 97,\n",
       " u'\\xf2': 98,\n",
       " u'\\xf3': 99,\n",
       " u'\\xf6': 100,\n",
       " u'\\xf8': 101,\n",
       " u'\\xf9': 102,\n",
       " u'\\xfa': 103,\n",
       " u'\\xfc': 104,\n",
       " u'\\u0131': 105,\n",
       " u'\\u01dd': 106,\n",
       " u'\\u025f': 107,\n",
       " u'\\u0287': 108,\n",
       " u'\\u0301': 109,\n",
       " u'\\u0306': 110,\n",
       " u'\\u0331': 111,\n",
       " u'\\u0332': 112,\n",
       " u'\\u0336': 113,\n",
       " u'\\u03b2': 114,\n",
       " u'\\u03b4': 115,\n",
       " u'\\u03bb': 116,\n",
       " u'\\u03bc': 117,\n",
       " u'\\u03c0': 118,\n",
       " u'\\u03c9': 119,\n",
       " u'\\u0430': 120,\n",
       " u'\\u0431': 121,\n",
       " u'\\u0432': 122,\n",
       " u'\\u0433': 123,\n",
       " u'\\u0434': 124,\n",
       " u'\\u0435': 125,\n",
       " u'\\u0436': 126,\n",
       " u'\\u0437': 127,\n",
       " u'\\u0438': 128,\n",
       " u'\\u0439': 129,\n",
       " u'\\u043a': 130,\n",
       " u'\\u043b': 131,\n",
       " u'\\u043c': 132,\n",
       " u'\\u043d': 133,\n",
       " u'\\u043e': 134,\n",
       " u'\\u043f': 135,\n",
       " u'\\u0440': 136,\n",
       " u'\\u0441': 137,\n",
       " u'\\u0442': 138,\n",
       " u'\\u0443': 139,\n",
       " u'\\u0444': 140,\n",
       " u'\\u0445': 141,\n",
       " u'\\u0446': 142,\n",
       " u'\\u0447': 143,\n",
       " u'\\u0448': 144,\n",
       " u'\\u0449': 145,\n",
       " u'\\u044a': 146,\n",
       " u'\\u044b': 147,\n",
       " u'\\u044c': 148,\n",
       " u'\\u044d': 149,\n",
       " u'\\u044e': 150,\n",
       " u'\\u044f': 151,\n",
       " u'\\u0451': 152,\n",
       " u'\\u0456': 153,\n",
       " u'\\u0457': 154,\n",
       " u'\\u0458': 155,\n",
       " u'\\u045e': 156,\n",
       " u'\\u0463': 157,\n",
       " u'\\u049b': 158,\n",
       " u'\\u06de': 159,\n",
       " u'\\u06e9': 160,\n",
       " u'\\u0e3f': 161,\n",
       " u'\\u2002': 162,\n",
       " u'\\u2006': 163,\n",
       " u'\\u2009': 164,\n",
       " u'\\u200b': 165,\n",
       " u'\\u200e': 166,\n",
       " u'\\u2010': 167,\n",
       " u'\\u2011': 168,\n",
       " u'\\u2013': 169,\n",
       " u'\\u2014': 170,\n",
       " u'\\u2015': 171,\n",
       " u'\\u2018': 172,\n",
       " u'\\u2019': 173,\n",
       " u'\\u201c': 174,\n",
       " u'\\u201d': 175,\n",
       " u'\\u201e': 176,\n",
       " u'\\u2022': 177,\n",
       " u'\\u2026': 178,\n",
       " u'\\u2028': 179,\n",
       " u'\\u202c': 180,\n",
       " u'\\u202d': 181,\n",
       " u'\\u2032': 182,\n",
       " u'\\u2033': 183,\n",
       " u'\\u203d': 184,\n",
       " u'\\u2070': 185,\n",
       " u'\\u20ac': 186,\n",
       " u'\\u2116': 187,\n",
       " u'\\u2122': 188,\n",
       " u'\\u2153': 189,\n",
       " u'\\u215c': 190,\n",
       " u'\\u2190': 191,\n",
       " u'\\u2191': 192,\n",
       " u'\\u2192': 193,\n",
       " u'\\u2194': 194,\n",
       " u'\\u21ba': 195,\n",
       " u'\\u21c4': 196,\n",
       " u'\\u21d2': 197,\n",
       " u'\\u21e8': 198,\n",
       " u'\\u2212': 199,\n",
       " u'\\u2219': 200,\n",
       " u'\\u2248': 201,\n",
       " u'\\u2260': 202,\n",
       " u'\\u2501': 203,\n",
       " u'\\u25bc': 204,\n",
       " u'\\u2620': 205,\n",
       " u'\\u2622': 206,\n",
       " u'\\u2623': 207,\n",
       " u'\\u263c': 208,\n",
       " u'\\u2660': 209,\n",
       " u'\\u2665': 210,\n",
       " u'\\u266b': 211,\n",
       " u'\\u2764': 212,\n",
       " u'\\u5370': 213,\n",
       " u'\\u6253': 214,\n",
       " u'\\u673a': 215,\n",
       " u'\\ufeff': 216,\n",
       " u'\\uff01': 217}"
      ]
     },
     "execution_count": 18,
     "metadata": {},
     "output_type": "execute_result"
    }
   ],
   "source": [
    "vectorizer_title_ch.vocabulary_"
   ]
  },
  {
   "cell_type": "markdown",
   "metadata": {},
   "source": [
    "## Работа с категориальными признаками\n",
    "\n",
    "Для обработки категориальных признаков 'author', 'flow', 'domain' мы будем использовать DictVectorizer из sklearn."
   ]
  },
  {
   "cell_type": "code",
   "execution_count": 19,
   "metadata": {
    "collapsed": false,
    "scrolled": true
   },
   "outputs": [
    {
     "data": {
      "text/html": [
       "<div>\n",
       "<table border=\"1\" class=\"dataframe\">\n",
       "  <thead>\n",
       "    <tr style=\"text-align: right;\">\n",
       "      <th></th>\n",
       "      <th>author</th>\n",
       "      <th>flow</th>\n",
       "      <th>domain</th>\n",
       "    </tr>\n",
       "  </thead>\n",
       "  <tbody>\n",
       "    <tr>\n",
       "      <th>0</th>\n",
       "      <td>@Tapac</td>\n",
       "      <td>develop</td>\n",
       "      <td>habrahabr.ru</td>\n",
       "    </tr>\n",
       "    <tr>\n",
       "      <th>1</th>\n",
       "      <td>@DezmASter</td>\n",
       "      <td>design</td>\n",
       "      <td>habrahabr.ru</td>\n",
       "    </tr>\n",
       "    <tr>\n",
       "      <th>2</th>\n",
       "      <td>@DezmASter</td>\n",
       "      <td>design</td>\n",
       "      <td>habrahabr.ru</td>\n",
       "    </tr>\n",
       "    <tr>\n",
       "      <th>3</th>\n",
       "      <td>@Taoorus</td>\n",
       "      <td>design</td>\n",
       "      <td>habrahabr.ru</td>\n",
       "    </tr>\n",
       "    <tr>\n",
       "      <th>4</th>\n",
       "      <td>@dennydo</td>\n",
       "      <td>NaN</td>\n",
       "      <td>geektimes.ru</td>\n",
       "    </tr>\n",
       "  </tbody>\n",
       "</table>\n",
       "</div>"
      ],
      "text/plain": [
       "       author     flow        domain\n",
       "0      @Tapac  develop  habrahabr.ru\n",
       "1  @DezmASter   design  habrahabr.ru\n",
       "2  @DezmASter   design  habrahabr.ru\n",
       "3    @Taoorus   design  habrahabr.ru\n",
       "4    @dennydo      NaN  geektimes.ru"
      ]
     },
     "execution_count": 19,
     "metadata": {},
     "output_type": "execute_result"
    }
   ],
   "source": [
    "feats = ['author', 'flow', 'domain']\n",
    "X_train[feats][:5]"
   ]
  },
  {
   "cell_type": "markdown",
   "metadata": {},
   "source": [
    "Рассмотрим как он работает на примере первых пяти строк"
   ]
  },
  {
   "cell_type": "code",
   "execution_count": 20,
   "metadata": {
    "collapsed": false
   },
   "outputs": [
    {
     "data": {
      "text/html": [
       "<div>\n",
       "<table border=\"1\" class=\"dataframe\">\n",
       "  <thead>\n",
       "    <tr style=\"text-align: right;\">\n",
       "      <th></th>\n",
       "      <th>author</th>\n",
       "      <th>flow</th>\n",
       "      <th>domain</th>\n",
       "    </tr>\n",
       "  </thead>\n",
       "  <tbody>\n",
       "    <tr>\n",
       "      <th>0</th>\n",
       "      <td>@Tapac</td>\n",
       "      <td>develop</td>\n",
       "      <td>habrahabr.ru</td>\n",
       "    </tr>\n",
       "    <tr>\n",
       "      <th>1</th>\n",
       "      <td>@DezmASter</td>\n",
       "      <td>design</td>\n",
       "      <td>habrahabr.ru</td>\n",
       "    </tr>\n",
       "    <tr>\n",
       "      <th>2</th>\n",
       "      <td>@DezmASter</td>\n",
       "      <td>design</td>\n",
       "      <td>habrahabr.ru</td>\n",
       "    </tr>\n",
       "    <tr>\n",
       "      <th>3</th>\n",
       "      <td>@Taoorus</td>\n",
       "      <td>design</td>\n",
       "      <td>habrahabr.ru</td>\n",
       "    </tr>\n",
       "    <tr>\n",
       "      <th>4</th>\n",
       "      <td>@dennydo</td>\n",
       "      <td>-</td>\n",
       "      <td>geektimes.ru</td>\n",
       "    </tr>\n",
       "  </tbody>\n",
       "</table>\n",
       "</div>"
      ],
      "text/plain": [
       "       author     flow        domain\n",
       "0      @Tapac  develop  habrahabr.ru\n",
       "1  @DezmASter   design  habrahabr.ru\n",
       "2  @DezmASter   design  habrahabr.ru\n",
       "3    @Taoorus   design  habrahabr.ru\n",
       "4    @dennydo        -  geektimes.ru"
      ]
     },
     "execution_count": 20,
     "metadata": {},
     "output_type": "execute_result"
    }
   ],
   "source": [
    "#сначала заполняем пропуски прочерком\n",
    "X_train[feats][:5].fillna('-')"
   ]
  },
  {
   "cell_type": "code",
   "execution_count": 21,
   "metadata": {
    "collapsed": false
   },
   "outputs": [
    {
     "data": {
      "text/plain": [
       "{0: {'author': '@Tapac', 'domain': 'habrahabr.ru', 'flow': 'develop'},\n",
       " 1: {'author': '@DezmASter', 'domain': 'habrahabr.ru', 'flow': 'design'},\n",
       " 2: {'author': '@DezmASter', 'domain': 'habrahabr.ru', 'flow': 'design'},\n",
       " 3: {'author': '@Taoorus', 'domain': 'habrahabr.ru', 'flow': 'design'},\n",
       " 4: {'author': '@dennydo', 'domain': 'geektimes.ru', 'flow': '-'}}"
      ]
     },
     "execution_count": 21,
     "metadata": {},
     "output_type": "execute_result"
    }
   ],
   "source": [
    "#Преобразуем датафрейм в словарь, где ключами являются индексы объектов (именно для этого мы транспонировали датафрейм),\n",
    "#а значениями являются словари в виде 'название_колонки':'значение'\n",
    "X_train[feats][:5].fillna('-').T.to_dict()"
   ]
  },
  {
   "cell_type": "code",
   "execution_count": 22,
   "metadata": {
    "collapsed": false
   },
   "outputs": [
    {
     "data": {
      "text/plain": [
       "[{'author': '@Tapac', 'domain': 'habrahabr.ru', 'flow': 'develop'},\n",
       " {'author': '@DezmASter', 'domain': 'habrahabr.ru', 'flow': 'design'},\n",
       " {'author': '@DezmASter', 'domain': 'habrahabr.ru', 'flow': 'design'},\n",
       " {'author': '@Taoorus', 'domain': 'habrahabr.ru', 'flow': 'design'},\n",
       " {'author': '@dennydo', 'domain': 'geektimes.ru', 'flow': '-'}]"
      ]
     },
     "execution_count": 22,
     "metadata": {},
     "output_type": "execute_result"
    }
   ],
   "source": [
    "# В DictVectorizer нам нужно будет передать список словарей для каждого объекта в виде 'название_колонки':'значение',\n",
    "#поэтому используем .values()\n",
    "X_train[feats][:5].fillna('-').T.to_dict().values()"
   ]
  },
  {
   "cell_type": "code",
   "execution_count": 23,
   "metadata": {
    "collapsed": false
   },
   "outputs": [
    {
     "data": {
      "text/plain": [
       "<5x9 sparse matrix of type '<type 'numpy.float64'>'\n",
       "\twith 15 stored elements in Compressed Sparse Row format>"
      ]
     },
     "execution_count": 23,
     "metadata": {},
     "output_type": "execute_result"
    }
   ],
   "source": [
    "#В итоге получается разреженная матрица\n",
    "dict_vect = DictVectorizer()\n",
    "dict_vect_matrix = dict_vect.fit_transform(X_train[feats][:5].fillna('-').T.to_dict().values())\n",
    "dict_vect_matrix"
   ]
  },
  {
   "cell_type": "code",
   "execution_count": 24,
   "metadata": {
    "collapsed": false
   },
   "outputs": [
    {
     "data": {
      "text/plain": [
       "array([[ 0.,  0.,  1.,  0.,  0.,  1.,  0.,  0.,  1.],\n",
       "       [ 1.,  0.,  0.,  0.,  0.,  1.,  0.,  1.,  0.],\n",
       "       [ 1.,  0.,  0.,  0.,  0.,  1.,  0.,  1.,  0.],\n",
       "       [ 0.,  1.,  0.,  0.,  0.,  1.,  0.,  1.,  0.],\n",
       "       [ 0.,  0.,  0.,  1.,  1.,  0.,  1.,  0.,  0.]])"
      ]
     },
     "execution_count": 24,
     "metadata": {},
     "output_type": "execute_result"
    }
   ],
   "source": [
    "#Но можно преобразовать ее в numpy array с помощью .toarray()\n",
    "dict_vect_matrix.toarray()"
   ]
  },
  {
   "cell_type": "code",
   "execution_count": 25,
   "metadata": {
    "collapsed": false
   },
   "outputs": [
    {
     "data": {
      "text/plain": [
       "(5, 9)"
      ]
     },
     "execution_count": 25,
     "metadata": {},
     "output_type": "execute_result"
    }
   ],
   "source": [
    "#В получившейся матрице 5 строк (по числу объектов) и 9 столбцов\n",
    "#Далее разберемся почему колонок именно 9\n",
    "dict_vect_matrix.shape"
   ]
  },
  {
   "cell_type": "markdown",
   "metadata": {},
   "source": [
    "Посмотрим сколько уникальных значений в каждой колонке.<br />\n",
    "Суммарно их 9 - столько же, сколько и колонок. Это объясняется тем, что для категориальных признаков со строковыми значениями DictVectorizer делает кодирование бинарными признаками - каждому уникальному значению признака соответствует один новый бинарный признак, который равен 1 только в том случае, если в исходной матрице этот признак принимает значение, которому соответствует эта колонка новой матрицы."
   ]
  },
  {
   "cell_type": "code",
   "execution_count": 26,
   "metadata": {
    "collapsed": false
   },
   "outputs": [
    {
     "name": "stdout",
     "output_type": "stream",
     "text": [
      "('author', 4)\n",
      "('flow', 3)\n",
      "('domain', 2)\n"
     ]
    }
   ],
   "source": [
    "for col in feats:\n",
    "    print(col,len(X_train[col][:5].fillna('-').unique()))"
   ]
  },
  {
   "cell_type": "markdown",
   "metadata": {},
   "source": [
    "Также можно посмотреть что означает каждая колонка полученной матрицы"
   ]
  },
  {
   "cell_type": "code",
   "execution_count": 27,
   "metadata": {
    "collapsed": false
   },
   "outputs": [
    {
     "data": {
      "text/plain": [
       "['author=@DezmASter',\n",
       " 'author=@Taoorus',\n",
       " 'author=@Tapac',\n",
       " 'author=@dennydo',\n",
       " 'domain=geektimes.ru',\n",
       " 'domain=habrahabr.ru',\n",
       " 'flow=-',\n",
       " 'flow=design',\n",
       " 'flow=develop']"
      ]
     },
     "execution_count": 27,
     "metadata": {},
     "output_type": "execute_result"
    }
   ],
   "source": [
    "#например, самая первая колонка называется 'author=@DezmASter' - то есть принимает значение 1 только если автор @DezmASter\n",
    "dict_vect.feature_names_"
   ]
  },
  {
   "cell_type": "markdown",
   "metadata": {},
   "source": [
    "**Инициализируйте DictVectorizer с параметрами по умолчанию.\n",
    "Примените метод fit_transform к признакам 'author', 'flow', 'domain' X_train и метод transform к тем же признакам X_valid и X_test**"
   ]
  },
  {
   "cell_type": "code",
   "execution_count": 28,
   "metadata": {
    "collapsed": false
   },
   "outputs": [],
   "source": [
    "vectorizer_feats = DictVectorizer()\n",
    "\n",
    "X_train_feats = vectorizer_feats.fit_transform(X_train[['author', 'flow', 'domain' ]].fillna('-').T.to_dict().values())\n",
    "X_valid_feats = vectorizer_feats.transform(X_valid[['author', 'flow', 'domain' ]].fillna('-').T.to_dict().values())\n",
    "X_test_feats = vectorizer_feats.transform(X_test[['author', 'flow', 'domain' ]].fillna('-').T.to_dict().values())"
   ]
  },
  {
   "cell_type": "code",
   "execution_count": 29,
   "metadata": {
    "collapsed": false
   },
   "outputs": [
    {
     "data": {
      "text/plain": [
       "(93895, 17869)"
      ]
     },
     "execution_count": 29,
     "metadata": {},
     "output_type": "execute_result"
    }
   ],
   "source": [
    "X_train_feats.shape"
   ]
  },
  {
   "cell_type": "markdown",
   "metadata": {},
   "source": [
    "Соединим все полученные матрицы при помощи scipy.sparse.hstack()"
   ]
  },
  {
   "cell_type": "code",
   "execution_count": 30,
   "metadata": {
    "collapsed": false
   },
   "outputs": [],
   "source": [
    "X_train_new = scipy.sparse.hstack([X_train_title, X_train_feats, X_train_title_ch])\n",
    "X_valid_new = scipy.sparse.hstack([X_valid_title, X_valid_feats, X_valid_title_ch])\n",
    "X_test_new =  scipy.sparse.hstack([X_test_title, X_test_feats, X_test_title_ch])"
   ]
  },
  {
   "cell_type": "markdown",
   "metadata": {},
   "source": [
    "## Обучение модели\n",
    "\n",
    "Далее будем использовать Ridge, линейную модель с l2-регуляризацией.\n",
    "[Документация](http://scikit-learn.org/stable/modules/generated/sklearn.linear_model.Ridge.html)\n",
    "\n",
    "Основной параметр Ridge - **alpha, коэффициент регуляризации**. Регуляризация используется для улучшения обобщающей способности модели - прибавляя к функционалу потерь сумму квадратов весов, умноженную на коэффициент регуляризации (та самая alpha), мы штрафуем модель за слишком большие значения весов и не позволяем ей переобучаться. Чем больше этот коээфициент, тем сильнее эффект."
   ]
  },
  {
   "cell_type": "markdown",
   "metadata": {},
   "source": [
    "**Обучите две модели на X_train_new, y_train, задав в первой alpha=0.1 и random_state = 1, а во второй alpha=1.0 и random_state = 1**\n",
    "\n",
    "**Рассчитайте среднеквадратичную ошибку каждой модели (mean_squared_error). Сравните значения ошибки на обучающей и тестовой выборках и ответьте на вопросы.**"
   ]
  },
  {
   "cell_type": "markdown",
   "metadata": {},
   "source": [
    "<font color='red'>Вопрос 6.</font> Выберите верные утверждения:\n",
    "- обе модели показывают одинаковый результат (среднеквадратичная ошибка отличается не больше чем на тысячные), регуляризация ничего не меняет\n",
    "- при alpha=0.1 модель переобучается\n",
    "- среднеквадратичная ошибка первой модели на тесте меньше\n",
    "- при alpha=1.0 у модели обощающая способность лучше, чем у при alpha=0.1"
   ]
  },
  {
   "cell_type": "code",
   "execution_count": 63,
   "metadata": {
    "collapsed": false,
    "scrolled": true
   },
   "outputs": [
    {
     "name": "stdout",
     "output_type": "stream",
     "text": [
      "CPU times: user 7.79 s, sys: 161 ms, total: 7.95 s\n",
      "Wall time: 8.04 s\n"
     ]
    }
   ],
   "source": [
    "%%time\n",
    "model1 = Ridge(alpha=4.0, random_state = 1)\n",
    "model1.fit(X_train_new, y_train)"
   ]
  },
  {
   "cell_type": "code",
   "execution_count": 64,
   "metadata": {
    "collapsed": false
   },
   "outputs": [
    {
     "name": "stdout",
     "output_type": "stream",
     "text": [
      "Ошибка на трейне 0.409177773443\n",
      "Ошибка на тесте 0.79925982079\n"
     ]
    }
   ],
   "source": [
    "train_preds1 = model1.predict(X_train_new)\n",
    "valid_preds1 = model1.predict(X_valid_new)\n",
    "\n",
    "print u'Ошибка на трейне', mean_squared_error(y_train, train_preds1)\n",
    "print u'Ошибка на тесте', mean_squared_error(y_valid, valid_preds1)"
   ]
  },
  {
   "cell_type": "code",
   "execution_count": 66,
   "metadata": {
    "collapsed": false
   },
   "outputs": [
    {
     "name": "stdout",
     "output_type": "stream",
     "text": [
      "CPU times: user 2.84 s, sys: 82.9 ms, total: 2.92 s\n",
      "Wall time: 2.14 s\n"
     ]
    }
   ],
   "source": [
    "%%time\n",
    "model2 = Ridge(alpha=4.0, fit_intercept=False, random_state = 1)\n",
    "model2.fit(X_train_new, y_train)"
   ]
  },
  {
   "cell_type": "code",
   "execution_count": 67,
   "metadata": {
    "collapsed": false
   },
   "outputs": [
    {
     "name": "stdout",
     "output_type": "stream",
     "text": [
      "Ошибка на трейне 0.409416508065\n",
      "Ошибка на тесте 0.799228999798\n"
     ]
    }
   ],
   "source": [
    "train_preds2 = model2.predict(X_train_new)\n",
    "valid_preds2 = model2.predict(X_valid_new)\n",
    "\n",
    "print u'Ошибка на трейне', mean_squared_error(y_train, train_preds2)\n",
    "print u'Ошибка на тесте', mean_squared_error(y_valid, valid_preds2)"
   ]
  },
  {
   "cell_type": "markdown",
   "metadata": {},
   "source": [
    "## Baseline\n",
    "\n",
    "**Теперь попытаемся получить бейзлайн для соревования - используйте Ridge с параметрами по умолчанию и обучите модель на всех данных - соедините X_train_new X_valid_new (используйте scipy.sparse.vstack()), а целевой переменной будет y.**"
   ]
  },
  {
   "cell_type": "code",
   "execution_count": 43,
   "metadata": {
    "collapsed": true
   },
   "outputs": [],
   "source": [
    "from sklearn.model_selection import GridSearchCV"
   ]
  },
  {
   "cell_type": "code",
   "execution_count": 60,
   "metadata": {
    "collapsed": false
   },
   "outputs": [],
   "source": [
    "model = Ridge()\n",
    "parameters = {'alpha':np.arange(4,4.1,0.01)}\n",
    "\n",
    "gcv = GridSearchCV(model, param_grid=parameters, n_jobs=-1, cv=3, verbose=1000)"
   ]
  },
  {
   "cell_type": "code",
   "execution_count": 61,
   "metadata": {
    "collapsed": false,
    "scrolled": true
   },
   "outputs": [
    {
     "name": "stdout",
     "output_type": "stream",
     "text": [
      "Fitting 3 folds for each of 10 candidates, totalling 30 fits\n",
      "Pickling array (shape=(134138,), dtype=int32).\n",
      "Memmaping (shape=(4529189,), dtype=int32) to new file /var/folders/cb/klp2b1n941s2d21364cg5kw40000gp/T/joblib_memmaping_pool_72153_4968335248/72153-4817553808-f2753ddb5135001f1df76a8b39109afb.pkl\n",
      "Memmaping (shape=(4529189,), dtype=float64) to new file /var/folders/cb/klp2b1n941s2d21364cg5kw40000gp/T/joblib_memmaping_pool_72153_4968335248/72153-4817553808-1334f304c123afaf203aa3ce6c048b79.pkl\n",
      "Memmaping (shape=(134137,), dtype=float64) to new file /var/folders/cb/klp2b1n941s2d21364cg5kw40000gp/T/joblib_memmaping_pool_72153_4968335248/72153-4817553808-5326a935cc5eb6adc48e90c0692f6ca2.pkl\n",
      "Pickling array (shape=(89424,), dtype=int64).\n",
      "Pickling array (shape=(44713,), dtype=int64).\n",
      "Pickling array (shape=(134138,), dtype=int32).\n",
      "Memmaping (shape=(4529189,), dtype=int32) to old file /var/folders/cb/klp2b1n941s2d21364cg5kw40000gp/T/joblib_memmaping_pool_72153_4968335248/72153-4817553808-f2753ddb5135001f1df76a8b39109afb.pkl\n",
      "Memmaping (shape=(4529189,), dtype=float64) to old file /var/folders/cb/klp2b1n941s2d21364cg5kw40000gp/T/joblib_memmaping_pool_72153_4968335248/72153-4817553808-1334f304c123afaf203aa3ce6c048b79.pkl\n",
      "Memmaping (shape=(134137,), dtype=float64) to old file /var/folders/cb/klp2b1n941s2d21364cg5kw40000gp/T/joblib_memmaping_pool_72153_4968335248/72153-4817553808-5326a935cc5eb6adc48e90c0692f6ca2.pkl\n",
      "Pickling array (shape=(89425,), dtype=int64).\n",
      "Pickling array (shape=(44712,), dtype=int64).\n",
      "[CV] alpha=4.0 .......................................................\n",
      "[CV] alpha=4.0 .......................................................\n",
      "Pickling array (shape=(134138,), dtype=int32).\n",
      "Memmaping (shape=(4529189,), dtype=int32) to old file /var/folders/cb/klp2b1n941s2d21364cg5kw40000gp/T/joblib_memmaping_pool_72153_4968335248/72153-4817553808-f2753ddb5135001f1df76a8b39109afb.pkl\n",
      "[CV] alpha=4.0 .......................................................\n",
      "Memmaping (shape=(4529189,), dtype=float64) to old file /var/folders/cb/klp2b1n941s2d21364cg5kw40000gp/T/joblib_memmaping_pool_72153_4968335248/72153-4817553808-1334f304c123afaf203aa3ce6c048b79.pkl\n",
      "Memmaping (shape=(134137,), dtype=float64) to old file /var/folders/cb/klp2b1n941s2d21364cg5kw40000gp/T/joblib_memmaping_pool_72153_4968335248/72153-4817553808-5326a935cc5eb6adc48e90c0692f6ca2.pkl\n",
      "Pickling array (shape=(89425,), dtype=int64).\n",
      "Pickling array (shape=(44712,), dtype=int64).\n",
      "Pickling array (shape=(134138,), dtype=int32).\n",
      "Memmaping (shape=(4529189,), dtype=int32) to old file /var/folders/cb/klp2b1n941s2d21364cg5kw40000gp/T/joblib_memmaping_pool_72153_4968335248/72153-4817553808-f2753ddb5135001f1df76a8b39109afb.pkl\n",
      "[CV] alpha=4.01 ......................................................\n",
      "Memmaping (shape=(4529189,), dtype=float64) to old file /var/folders/cb/klp2b1n941s2d21364cg5kw40000gp/T/joblib_memmaping_pool_72153_4968335248/72153-4817553808-1334f304c123afaf203aa3ce6c048b79.pkl\n",
      "Memmaping (shape=(134137,), dtype=float64) to old file /var/folders/cb/klp2b1n941s2d21364cg5kw40000gp/T/joblib_memmaping_pool_72153_4968335248/72153-4817553808-5326a935cc5eb6adc48e90c0692f6ca2.pkl\n",
      "Pickling array (shape=(89424,), dtype=int64).\n",
      "Pickling array (shape=(44713,), dtype=int64).\n",
      "Pickling array (shape=(134138,), dtype=int32).\n",
      "Memmaping (shape=(4529189,), dtype=int32) to old file /var/folders/cb/klp2b1n941s2d21364cg5kw40000gp/T/joblib_memmaping_pool_72153_4968335248/72153-4817553808-f2753ddb5135001f1df76a8b39109afb.pkl\n",
      "Memmaping (shape=(4529189,), dtype=float64) to old file /var/folders/cb/klp2b1n941s2d21364cg5kw40000gp/T/joblib_memmaping_pool_72153_4968335248/72153-4817553808-1334f304c123afaf203aa3ce6c048b79.pkl\n",
      "Memmaping (shape=(134137,), dtype=float64) to old file /var/folders/cb/klp2b1n941s2d21364cg5kw40000gp/T/joblib_memmaping_pool_72153_4968335248/72153-4817553808-5326a935cc5eb6adc48e90c0692f6ca2.pkl\n",
      "Pickling array (shape=(89425,), dtype=int64).\n",
      "Pickling array (shape=(44712,), dtype=int64).\n",
      "[CV] .............................. alpha=4.0, score=0.338087 -   0.1s\n",
      "[Parallel(n_jobs=-1)]: Done   1 tasks      | elapsed:   18.5s\n",
      "Pickling array (shape=(134138,), dtype=int32).\n",
      "Memmaping (shape=(4529189,), dtype=int32) to old file /var/folders/cb/klp2b1n941s2d21364cg5kw40000gp/T/joblib_memmaping_pool_72153_4968335248/72153-4817553808-f2753ddb5135001f1df76a8b39109afb.pkl\n",
      "[CV] .............................. alpha=4.0, score=0.202653 -   0.1s\n",
      "[Parallel(n_jobs=-1)]: Done   2 tasks      | elapsed:   18.8s\n",
      "Memmaping (shape=(4529189,), dtype=float64) to old file /var/folders/cb/klp2b1n941s2d21364cg5kw40000gp/T/joblib_memmaping_pool_72153_4968335248/72153-4817553808-1334f304c123afaf203aa3ce6c048b79.pkl\n",
      "[CV] alpha=4.01 ......................................................\n",
      "Memmaping (shape=(134137,), dtype=float64) to old file /var/folders/cb/klp2b1n941s2d21364cg5kw40000gp/T/joblib_memmaping_pool_72153_4968335248/72153-4817553808-5326a935cc5eb6adc48e90c0692f6ca2.pkl\n",
      "Pickling array (shape=(89425,), dtype=int64).\n",
      "Pickling array (shape=(44712,), dtype=int64).\n",
      "Pickling array (shape=(134138,), dtype=int32).\n",
      "[CV] alpha=4.01 ......................................................\n",
      "Memmaping (shape=(4529189,), dtype=int32) to old file /var/folders/cb/klp2b1n941s2d21364cg5kw40000gp/T/joblib_memmaping_pool_72153_4968335248/72153-4817553808-f2753ddb5135001f1df76a8b39109afb.pkl\n",
      "Memmaping (shape=(4529189,), dtype=float64) to old file /var/folders/cb/klp2b1n941s2d21364cg5kw40000gp/T/joblib_memmaping_pool_72153_4968335248/72153-4817553808-1334f304c123afaf203aa3ce6c048b79.pkl\n",
      "Memmaping (shape=(134137,), dtype=float64) to old file /var/folders/cb/klp2b1n941s2d21364cg5kw40000gp/T/joblib_memmaping_pool_72153_4968335248/72153-4817553808-5326a935cc5eb6adc48e90c0692f6ca2.pkl\n",
      "Pickling array (shape=(89424,), dtype=int64).\n",
      "Pickling array (shape=(44713,), dtype=int64).\n",
      "[CV] .............................. alpha=4.0, score=0.276039 -   0.1s\n",
      "[Parallel(n_jobs=-1)]: Done   3 tasks      | elapsed:   23.3s\n",
      "Pickling array (shape=(134138,), dtype=int32).\n",
      "Memmaping (shape=(4529189,), dtype=int32) to old file /var/folders/cb/klp2b1n941s2d21364cg5kw40000gp/T/joblib_memmaping_pool_72153_4968335248/72153-4817553808-f2753ddb5135001f1df76a8b39109afb.pkl\n",
      "[CV] ............................. alpha=4.01, score=0.276062 -   0.1s\n",
      "[CV] alpha=4.02 ......................................................\n",
      "Memmaping (shape=(4529189,), dtype=float64) to old file /var/folders/cb/klp2b1n941s2d21364cg5kw40000gp/T/joblib_memmaping_pool_72153_4968335248/72153-4817553808-1334f304c123afaf203aa3ce6c048b79.pkl\n",
      "[Parallel(n_jobs=-1)]: Done   4 tasks      | elapsed:   23.6s\n",
      "Memmaping (shape=(134137,), dtype=float64) to old file /var/folders/cb/klp2b1n941s2d21364cg5kw40000gp/T/joblib_memmaping_pool_72153_4968335248/72153-4817553808-5326a935cc5eb6adc48e90c0692f6ca2.pkl\n",
      "Pickling array (shape=(89425,), dtype=int64).\n",
      "Pickling array (shape=(44712,), dtype=int64).\n",
      "Pickling array (shape=(134138,), dtype=int32).\n",
      "Memmaping (shape=(4529189,), dtype=int32) to old file /var/folders/cb/klp2b1n941s2d21364cg5kw40000gp/T/joblib_memmaping_pool_72153_4968335248/72153-4817553808-f2753ddb5135001f1df76a8b39109afb.pkl\n",
      "Memmaping (shape=(4529189,), dtype=float64) to old file /var/folders/cb/klp2b1n941s2d21364cg5kw40000gp/T/joblib_memmaping_pool_72153_4968335248/72153-4817553808-1334f304c123afaf203aa3ce6c048b79.pkl\n",
      "[CV] alpha=4.02 ......................................................\n",
      "Memmaping (shape=(134137,), dtype=float64) to old file /var/folders/cb/klp2b1n941s2d21364cg5kw40000gp/T/joblib_memmaping_pool_72153_4968335248/72153-4817553808-5326a935cc5eb6adc48e90c0692f6ca2.pkl\n",
      "Pickling array (shape=(89425,), dtype=int64).\n",
      "Pickling array (shape=(44712,), dtype=int64).\n",
      "[CV] ............................. alpha=4.01, score=0.338081 -   0.0s\n",
      "[CV] ............................. alpha=4.01, score=0.202610 -   0.0s\n",
      "[Parallel(n_jobs=-1)]: Done   5 tasks      | elapsed:   33.2s\n",
      "Pickling array (shape=(134138,), dtype=int32).\n",
      "Memmaping (shape=(4529189,), dtype=int32) to old file /var/folders/cb/klp2b1n941s2d21364cg5kw40000gp/T/joblib_memmaping_pool_72153_4968335248/72153-4817553808-f2753ddb5135001f1df76a8b39109afb.pkl\n",
      "[Parallel(n_jobs=-1)]: Done   6 tasks      | elapsed:   33.3s\n",
      "Memmaping (shape=(4529189,), dtype=float64) to old file /var/folders/cb/klp2b1n941s2d21364cg5kw40000gp/T/joblib_memmaping_pool_72153_4968335248/72153-4817553808-1334f304c123afaf203aa3ce6c048b79.pkl\n",
      "[CV] alpha=4.02 ......................................................\n",
      "Memmaping (shape=(134137,), dtype=float64) to old file /var/folders/cb/klp2b1n941s2d21364cg5kw40000gp/T/joblib_memmaping_pool_72153_4968335248/72153-4817553808-5326a935cc5eb6adc48e90c0692f6ca2.pkl\n",
      "Pickling array (shape=(89424,), dtype=int64).\n",
      "Pickling array (shape=(44713,), dtype=int64).\n",
      "Pickling array (shape=(134138,), dtype=int32).\n",
      "[CV] alpha=4.03 ......................................................\n",
      "Memmaping (shape=(4529189,), dtype=int32) to old file /var/folders/cb/klp2b1n941s2d21364cg5kw40000gp/T/joblib_memmaping_pool_72153_4968335248/72153-4817553808-f2753ddb5135001f1df76a8b39109afb.pkl\n",
      "Memmaping (shape=(4529189,), dtype=float64) to old file /var/folders/cb/klp2b1n941s2d21364cg5kw40000gp/T/joblib_memmaping_pool_72153_4968335248/72153-4817553808-1334f304c123afaf203aa3ce6c048b79.pkl\n",
      "Memmaping (shape=(134137,), dtype=float64) to old file /var/folders/cb/klp2b1n941s2d21364cg5kw40000gp/T/joblib_memmaping_pool_72153_4968335248/72153-4817553808-5326a935cc5eb6adc48e90c0692f6ca2.pkl\n",
      "Pickling array (shape=(89425,), dtype=int64).\n",
      "Pickling array (shape=(44712,), dtype=int64).\n",
      "[CV] ............................. alpha=4.02, score=0.338074 -   0.0s\n",
      "[Parallel(n_jobs=-1)]: Done   7 tasks      | elapsed:   37.5s\n",
      "Pickling array (shape=(134138,), dtype=int32).\n",
      "Memmaping (shape=(4529189,), dtype=int32) to old file /var/folders/cb/klp2b1n941s2d21364cg5kw40000gp/T/joblib_memmaping_pool_72153_4968335248/72153-4817553808-f2753ddb5135001f1df76a8b39109afb.pkl\n",
      "[CV] alpha=4.03 ......................................................\n",
      "Memmaping (shape=(4529189,), dtype=float64) to old file /var/folders/cb/klp2b1n941s2d21364cg5kw40000gp/T/joblib_memmaping_pool_72153_4968335248/72153-4817553808-1334f304c123afaf203aa3ce6c048b79.pkl\n",
      "Memmaping (shape=(134137,), dtype=float64) to old file /var/folders/cb/klp2b1n941s2d21364cg5kw40000gp/T/joblib_memmaping_pool_72153_4968335248/72153-4817553808-5326a935cc5eb6adc48e90c0692f6ca2.pkl\n",
      "Pickling array (shape=(89425,), dtype=int64).\n",
      "Pickling array (shape=(44712,), dtype=int64).\n",
      "[CV] ............................. alpha=4.02, score=0.276084 -   0.0s\n",
      "[Parallel(n_jobs=-1)]: Done   8 tasks      | elapsed:   41.6s\n",
      "Pickling array (shape=(134138,), dtype=int32).\n",
      "Memmaping (shape=(4529189,), dtype=int32) to old file /var/folders/cb/klp2b1n941s2d21364cg5kw40000gp/T/joblib_memmaping_pool_72153_4968335248/72153-4817553808-f2753ddb5135001f1df76a8b39109afb.pkl\n",
      "[CV] alpha=4.03 ......................................................\n",
      "Memmaping (shape=(4529189,), dtype=float64) to old file /var/folders/cb/klp2b1n941s2d21364cg5kw40000gp/T/joblib_memmaping_pool_72153_4968335248/72153-4817553808-1334f304c123afaf203aa3ce6c048b79.pkl\n",
      "Memmaping (shape=(134137,), dtype=float64) to old file /var/folders/cb/klp2b1n941s2d21364cg5kw40000gp/T/joblib_memmaping_pool_72153_4968335248/72153-4817553808-5326a935cc5eb6adc48e90c0692f6ca2.pkl\n",
      "Pickling array (shape=(89424,), dtype=int64).\n",
      "Pickling array (shape=(44713,), dtype=int64).\n",
      "[CV] ............................. alpha=4.02, score=0.202566 -   0.0s\n",
      "[CV] alpha=4.04 ......................................................\n",
      "[Parallel(n_jobs=-1)]: Done   9 tasks      | elapsed:   46.9s\n",
      "Pickling array (shape=(134138,), dtype=int32).\n",
      "Memmaping (shape=(4529189,), dtype=int32) to old file /var/folders/cb/klp2b1n941s2d21364cg5kw40000gp/T/joblib_memmaping_pool_72153_4968335248/72153-4817553808-f2753ddb5135001f1df76a8b39109afb.pkl\n",
      "Memmaping (shape=(4529189,), dtype=float64) to old file /var/folders/cb/klp2b1n941s2d21364cg5kw40000gp/T/joblib_memmaping_pool_72153_4968335248/72153-4817553808-1334f304c123afaf203aa3ce6c048b79.pkl\n",
      "Memmaping (shape=(134137,), dtype=float64) to old file /var/folders/cb/klp2b1n941s2d21364cg5kw40000gp/T/joblib_memmaping_pool_72153_4968335248/72153-4817553808-5326a935cc5eb6adc48e90c0692f6ca2.pkl\n",
      "Pickling array (shape=(89425,), dtype=int64).\n",
      "Pickling array (shape=(44712,), dtype=int64).\n",
      "[CV] ............................. alpha=4.03, score=0.338067 -   0.0s\n",
      "[Parallel(n_jobs=-1)]: Done  10 tasks      | elapsed:   51.3s\n",
      "Pickling array (shape=(134138,), dtype=int32).\n",
      "Memmaping (shape=(4529189,), dtype=int32) to old file /var/folders/cb/klp2b1n941s2d21364cg5kw40000gp/T/joblib_memmaping_pool_72153_4968335248/72153-4817553808-f2753ddb5135001f1df76a8b39109afb.pkl\n",
      "Memmaping (shape=(4529189,), dtype=float64) to old file /var/folders/cb/klp2b1n941s2d21364cg5kw40000gp/T/joblib_memmaping_pool_72153_4968335248/72153-4817553808-1334f304c123afaf203aa3ce6c048b79.pkl\n",
      "[CV] alpha=4.04 ......................................................\n",
      "Memmaping (shape=(134137,), dtype=float64) to old file /var/folders/cb/klp2b1n941s2d21364cg5kw40000gp/T/joblib_memmaping_pool_72153_4968335248/72153-4817553808-5326a935cc5eb6adc48e90c0692f6ca2.pkl\n",
      "Pickling array (shape=(89425,), dtype=int64).\n",
      "Pickling array (shape=(44712,), dtype=int64).\n",
      "[CV] ............................. alpha=4.03, score=0.276107 -   0.0s\n",
      "[CV] alpha=4.04 ......................................................\n",
      "[Parallel(n_jobs=-1)]: Done  11 tasks      | elapsed:   52.4s\n",
      "Pickling array (shape=(134138,), dtype=int32).\n",
      "Memmaping (shape=(4529189,), dtype=int32) to old file /var/folders/cb/klp2b1n941s2d21364cg5kw40000gp/T/joblib_memmaping_pool_72153_4968335248/72153-4817553808-f2753ddb5135001f1df76a8b39109afb.pkl\n",
      "Memmaping (shape=(4529189,), dtype=float64) to old file /var/folders/cb/klp2b1n941s2d21364cg5kw40000gp/T/joblib_memmaping_pool_72153_4968335248/72153-4817553808-1334f304c123afaf203aa3ce6c048b79.pkl\n",
      "Memmaping (shape=(134137,), dtype=float64) to old file /var/folders/cb/klp2b1n941s2d21364cg5kw40000gp/T/joblib_memmaping_pool_72153_4968335248/72153-4817553808-5326a935cc5eb6adc48e90c0692f6ca2.pkl\n",
      "Pickling array (shape=(89424,), dtype=int64).\n",
      "Pickling array (shape=(44713,), dtype=int64).\n",
      "[CV] ............................. alpha=4.03, score=0.202522 -   0.0s\n",
      "[Parallel(n_jobs=-1)]: Done  12 tasks      | elapsed:   57.5s\n",
      "Pickling array (shape=(134138,), dtype=int32).\n",
      "Memmaping (shape=(4529189,), dtype=int32) to old file /var/folders/cb/klp2b1n941s2d21364cg5kw40000gp/T/joblib_memmaping_pool_72153_4968335248/72153-4817553808-f2753ddb5135001f1df76a8b39109afb.pkl\n",
      "[CV] alpha=4.05 ......................................................\n",
      "Memmaping (shape=(4529189,), dtype=float64) to old file /var/folders/cb/klp2b1n941s2d21364cg5kw40000gp/T/joblib_memmaping_pool_72153_4968335248/72153-4817553808-1334f304c123afaf203aa3ce6c048b79.pkl\n",
      "Memmaping (shape=(134137,), dtype=float64) to old file /var/folders/cb/klp2b1n941s2d21364cg5kw40000gp/T/joblib_memmaping_pool_72153_4968335248/72153-4817553808-5326a935cc5eb6adc48e90c0692f6ca2.pkl\n",
      "Pickling array (shape=(89425,), dtype=int64).\n",
      "Pickling array (shape=(44712,), dtype=int64).\n",
      "[CV] ............................. alpha=4.04, score=0.338061 -   0.0s\n",
      "[CV] alpha=4.05 ......................................................\n",
      "[Parallel(n_jobs=-1)]: Done  13 tasks      | elapsed:  1.2min\n",
      "Pickling array (shape=(134138,), dtype=int32).\n",
      "Memmaping (shape=(4529189,), dtype=int32) to old file /var/folders/cb/klp2b1n941s2d21364cg5kw40000gp/T/joblib_memmaping_pool_72153_4968335248/72153-4817553808-f2753ddb5135001f1df76a8b39109afb.pkl\n",
      "Memmaping (shape=(4529189,), dtype=float64) to old file /var/folders/cb/klp2b1n941s2d21364cg5kw40000gp/T/joblib_memmaping_pool_72153_4968335248/72153-4817553808-1334f304c123afaf203aa3ce6c048b79.pkl\n",
      "Memmaping (shape=(134137,), dtype=float64) to old file /var/folders/cb/klp2b1n941s2d21364cg5kw40000gp/T/joblib_memmaping_pool_72153_4968335248/72153-4817553808-5326a935cc5eb6adc48e90c0692f6ca2.pkl\n",
      "Pickling array (shape=(89425,), dtype=int64).\n",
      "Pickling array (shape=(44712,), dtype=int64).\n",
      "[CV] ............................. alpha=4.04, score=0.276129 -   0.0s\n",
      "[CV] alpha=4.05 ......................................................\n",
      "[Parallel(n_jobs=-1)]: Done  14 tasks      | elapsed:  1.2min\n",
      "Pickling array (shape=(134138,), dtype=int32).\n",
      "Memmaping (shape=(4529189,), dtype=int32) to old file /var/folders/cb/klp2b1n941s2d21364cg5kw40000gp/T/joblib_memmaping_pool_72153_4968335248/72153-4817553808-f2753ddb5135001f1df76a8b39109afb.pkl\n",
      "Memmaping (shape=(4529189,), dtype=float64) to old file /var/folders/cb/klp2b1n941s2d21364cg5kw40000gp/T/joblib_memmaping_pool_72153_4968335248/72153-4817553808-1334f304c123afaf203aa3ce6c048b79.pkl\n",
      "Memmaping (shape=(134137,), dtype=float64) to old file /var/folders/cb/klp2b1n941s2d21364cg5kw40000gp/T/joblib_memmaping_pool_72153_4968335248/72153-4817553808-5326a935cc5eb6adc48e90c0692f6ca2.pkl\n",
      "Pickling array (shape=(89424,), dtype=int64).\n",
      "Pickling array (shape=(44713,), dtype=int64).\n",
      "[CV] ............................. alpha=4.04, score=0.202478 -   0.0s\n",
      "[CV] alpha=4.06 ......................................................\n",
      "[Parallel(n_jobs=-1)]: Done  15 tasks      | elapsed:  1.2min\n",
      "Pickling array (shape=(134138,), dtype=int32).\n",
      "Memmaping (shape=(4529189,), dtype=int32) to old file /var/folders/cb/klp2b1n941s2d21364cg5kw40000gp/T/joblib_memmaping_pool_72153_4968335248/72153-4817553808-f2753ddb5135001f1df76a8b39109afb.pkl\n",
      "Memmaping (shape=(4529189,), dtype=float64) to old file /var/folders/cb/klp2b1n941s2d21364cg5kw40000gp/T/joblib_memmaping_pool_72153_4968335248/72153-4817553808-1334f304c123afaf203aa3ce6c048b79.pkl\n",
      "Memmaping (shape=(134137,), dtype=float64) to old file /var/folders/cb/klp2b1n941s2d21364cg5kw40000gp/T/joblib_memmaping_pool_72153_4968335248/72153-4817553808-5326a935cc5eb6adc48e90c0692f6ca2.pkl\n",
      "Pickling array (shape=(89425,), dtype=int64).\n",
      "Pickling array (shape=(44712,), dtype=int64).\n",
      "[CV] ............................. alpha=4.05, score=0.276151 -   0.0s\n",
      "[Parallel(n_jobs=-1)]: Done  16 tasks      | elapsed:  1.3min\n",
      "Pickling array (shape=(134138,), dtype=int32).\n",
      "Memmaping (shape=(4529189,), dtype=int32) to old file /var/folders/cb/klp2b1n941s2d21364cg5kw40000gp/T/joblib_memmaping_pool_72153_4968335248/72153-4817553808-f2753ddb5135001f1df76a8b39109afb.pkl\n",
      "[CV] alpha=4.06 ......................................................\n",
      "Memmaping (shape=(4529189,), dtype=float64) to old file /var/folders/cb/klp2b1n941s2d21364cg5kw40000gp/T/joblib_memmaping_pool_72153_4968335248/72153-4817553808-1334f304c123afaf203aa3ce6c048b79.pkl\n",
      "Memmaping (shape=(134137,), dtype=float64) to old file /var/folders/cb/klp2b1n941s2d21364cg5kw40000gp/T/joblib_memmaping_pool_72153_4968335248/72153-4817553808-5326a935cc5eb6adc48e90c0692f6ca2.pkl\n",
      "Pickling array (shape=(89425,), dtype=int64).\n",
      "Pickling array (shape=(44712,), dtype=int64).\n",
      "[CV] ............................. alpha=4.05, score=0.338053 -   0.0s\n",
      "[CV] alpha=4.06 ......................................................\n",
      "[Parallel(n_jobs=-1)]: Done  17 tasks      | elapsed:  1.4min\n",
      "Pickling array (shape=(134138,), dtype=int32).\n",
      "Memmaping (shape=(4529189,), dtype=int32) to old file /var/folders/cb/klp2b1n941s2d21364cg5kw40000gp/T/joblib_memmaping_pool_72153_4968335248/72153-4817553808-f2753ddb5135001f1df76a8b39109afb.pkl\n",
      "Memmaping (shape=(4529189,), dtype=float64) to old file /var/folders/cb/klp2b1n941s2d21364cg5kw40000gp/T/joblib_memmaping_pool_72153_4968335248/72153-4817553808-1334f304c123afaf203aa3ce6c048b79.pkl\n",
      "Memmaping (shape=(134137,), dtype=float64) to old file /var/folders/cb/klp2b1n941s2d21364cg5kw40000gp/T/joblib_memmaping_pool_72153_4968335248/72153-4817553808-5326a935cc5eb6adc48e90c0692f6ca2.pkl\n",
      "Pickling array (shape=(89424,), dtype=int64).\n",
      "Pickling array (shape=(44713,), dtype=int64).\n",
      "[CV] ............................. alpha=4.05, score=0.202434 -   0.0s\n",
      "[CV] alpha=4.07 ......................................................\n",
      "[Parallel(n_jobs=-1)]: Done  18 tasks      | elapsed:  1.4min\n",
      "Pickling array (shape=(134138,), dtype=int32).\n",
      "Memmaping (shape=(4529189,), dtype=int32) to old file /var/folders/cb/klp2b1n941s2d21364cg5kw40000gp/T/joblib_memmaping_pool_72153_4968335248/72153-4817553808-f2753ddb5135001f1df76a8b39109afb.pkl\n",
      "Memmaping (shape=(4529189,), dtype=float64) to old file /var/folders/cb/klp2b1n941s2d21364cg5kw40000gp/T/joblib_memmaping_pool_72153_4968335248/72153-4817553808-1334f304c123afaf203aa3ce6c048b79.pkl\n",
      "Memmaping (shape=(134137,), dtype=float64) to old file /var/folders/cb/klp2b1n941s2d21364cg5kw40000gp/T/joblib_memmaping_pool_72153_4968335248/72153-4817553808-5326a935cc5eb6adc48e90c0692f6ca2.pkl\n",
      "Pickling array (shape=(89425,), dtype=int64).\n",
      "Pickling array (shape=(44712,), dtype=int64).\n",
      "[CV] ............................. alpha=4.06, score=0.276173 -   0.0s\n",
      "[CV] alpha=4.07 ......................................................\n",
      "[Parallel(n_jobs=-1)]: Done  19 tasks      | elapsed:  1.5min\n",
      "Pickling array (shape=(134138,), dtype=int32).\n",
      "Memmaping (shape=(4529189,), dtype=int32) to old file /var/folders/cb/klp2b1n941s2d21364cg5kw40000gp/T/joblib_memmaping_pool_72153_4968335248/72153-4817553808-f2753ddb5135001f1df76a8b39109afb.pkl\n",
      "Memmaping (shape=(4529189,), dtype=float64) to old file /var/folders/cb/klp2b1n941s2d21364cg5kw40000gp/T/joblib_memmaping_pool_72153_4968335248/72153-4817553808-1334f304c123afaf203aa3ce6c048b79.pkl\n",
      "Memmaping (shape=(134137,), dtype=float64) to old file /var/folders/cb/klp2b1n941s2d21364cg5kw40000gp/T/joblib_memmaping_pool_72153_4968335248/72153-4817553808-5326a935cc5eb6adc48e90c0692f6ca2.pkl\n",
      "Pickling array (shape=(89425,), dtype=int64).\n",
      "Pickling array (shape=(44712,), dtype=int64).\n",
      "[CV] ............................. alpha=4.06, score=0.338046 -   0.0s\n",
      "[CV] alpha=4.07 ......................................................\n",
      "[Parallel(n_jobs=-1)]: Done  20 tasks      | elapsed:  1.6min\n",
      "Pickling array (shape=(134138,), dtype=int32).\n",
      "Memmaping (shape=(4529189,), dtype=int32) to old file /var/folders/cb/klp2b1n941s2d21364cg5kw40000gp/T/joblib_memmaping_pool_72153_4968335248/72153-4817553808-f2753ddb5135001f1df76a8b39109afb.pkl\n",
      "Memmaping (shape=(4529189,), dtype=float64) to old file /var/folders/cb/klp2b1n941s2d21364cg5kw40000gp/T/joblib_memmaping_pool_72153_4968335248/72153-4817553808-1334f304c123afaf203aa3ce6c048b79.pkl\n",
      "Memmaping (shape=(134137,), dtype=float64) to old file /var/folders/cb/klp2b1n941s2d21364cg5kw40000gp/T/joblib_memmaping_pool_72153_4968335248/72153-4817553808-5326a935cc5eb6adc48e90c0692f6ca2.pkl\n",
      "Pickling array (shape=(89424,), dtype=int64).\n",
      "Pickling array (shape=(44713,), dtype=int64).\n",
      "[CV] ............................. alpha=4.06, score=0.202391 -   0.0s\n",
      "[CV] alpha=4.08 ......................................................\n",
      "[Parallel(n_jobs=-1)]: Done  21 tasks      | elapsed:  1.7min\n",
      "Pickling array (shape=(134138,), dtype=int32).\n",
      "Memmaping (shape=(4529189,), dtype=int32) to old file /var/folders/cb/klp2b1n941s2d21364cg5kw40000gp/T/joblib_memmaping_pool_72153_4968335248/72153-4817553808-f2753ddb5135001f1df76a8b39109afb.pkl\n",
      "Memmaping (shape=(4529189,), dtype=float64) to old file /var/folders/cb/klp2b1n941s2d21364cg5kw40000gp/T/joblib_memmaping_pool_72153_4968335248/72153-4817553808-1334f304c123afaf203aa3ce6c048b79.pkl\n",
      "Memmaping (shape=(134137,), dtype=float64) to old file /var/folders/cb/klp2b1n941s2d21364cg5kw40000gp/T/joblib_memmaping_pool_72153_4968335248/72153-4817553808-5326a935cc5eb6adc48e90c0692f6ca2.pkl\n",
      "Pickling array (shape=(89425,), dtype=int64).\n",
      "Pickling array (shape=(44712,), dtype=int64).\n",
      "[CV] ............................. alpha=4.07, score=0.276194 -   0.0s\n",
      "[CV] ............................. alpha=4.07, score=0.338039 -   0.0s\n",
      "[Parallel(n_jobs=-1)]: Done  22 tasks      | elapsed:  1.8min\n",
      "Pickling array (shape=(134138,), dtype=int32).\n",
      "Memmaping (shape=(4529189,), dtype=int32) to old file /var/folders/cb/klp2b1n941s2d21364cg5kw40000gp/T/joblib_memmaping_pool_72153_4968335248/72153-4817553808-f2753ddb5135001f1df76a8b39109afb.pkl\n",
      "[CV] alpha=4.08 ......................................................\n",
      "[CV] alpha=4.08 ......................................................\n",
      "[Parallel(n_jobs=-1)]: Done  23 tasks      | elapsed:  1.8min\n",
      "Memmaping (shape=(4529189,), dtype=float64) to old file /var/folders/cb/klp2b1n941s2d21364cg5kw40000gp/T/joblib_memmaping_pool_72153_4968335248/72153-4817553808-1334f304c123afaf203aa3ce6c048b79.pkl\n",
      "Memmaping (shape=(134137,), dtype=float64) to old file /var/folders/cb/klp2b1n941s2d21364cg5kw40000gp/T/joblib_memmaping_pool_72153_4968335248/72153-4817553808-5326a935cc5eb6adc48e90c0692f6ca2.pkl\n",
      "Pickling array (shape=(89425,), dtype=int64).\n",
      "Pickling array (shape=(44712,), dtype=int64).\n",
      "Pickling array (shape=(134138,), dtype=int32).\n",
      "Memmaping (shape=(4529189,), dtype=int32) to old file /var/folders/cb/klp2b1n941s2d21364cg5kw40000gp/T/joblib_memmaping_pool_72153_4968335248/72153-4817553808-f2753ddb5135001f1df76a8b39109afb.pkl\n",
      "Memmaping (shape=(4529189,), dtype=float64) to old file /var/folders/cb/klp2b1n941s2d21364cg5kw40000gp/T/joblib_memmaping_pool_72153_4968335248/72153-4817553808-1334f304c123afaf203aa3ce6c048b79.pkl\n",
      "Memmaping (shape=(134137,), dtype=float64) to old file /var/folders/cb/klp2b1n941s2d21364cg5kw40000gp/T/joblib_memmaping_pool_72153_4968335248/72153-4817553808-5326a935cc5eb6adc48e90c0692f6ca2.pkl\n",
      "Pickling array (shape=(89424,), dtype=int64).\n",
      "Pickling array (shape=(44713,), dtype=int64).\n",
      "[CV] ............................. alpha=4.07, score=0.202347 -   0.0s\n",
      "[CV] alpha=4.09 ......................................................\n",
      "[Parallel(n_jobs=-1)]: Done  24 out of  30 | elapsed:  1.9min remaining:   28.2s\n",
      "Pickling array (shape=(134138,), dtype=int32).\n",
      "Memmaping (shape=(4529189,), dtype=int32) to old file /var/folders/cb/klp2b1n941s2d21364cg5kw40000gp/T/joblib_memmaping_pool_72153_4968335248/72153-4817553808-f2753ddb5135001f1df76a8b39109afb.pkl\n",
      "Memmaping (shape=(4529189,), dtype=float64) to old file /var/folders/cb/klp2b1n941s2d21364cg5kw40000gp/T/joblib_memmaping_pool_72153_4968335248/72153-4817553808-1334f304c123afaf203aa3ce6c048b79.pkl\n",
      "Memmaping (shape=(134137,), dtype=float64) to old file /var/folders/cb/klp2b1n941s2d21364cg5kw40000gp/T/joblib_memmaping_pool_72153_4968335248/72153-4817553808-5326a935cc5eb6adc48e90c0692f6ca2.pkl\n",
      "Pickling array (shape=(89425,), dtype=int64).\n",
      "Pickling array (shape=(44712,), dtype=int64).\n",
      "[CV] ............................. alpha=4.08, score=0.276216 -   0.0s\n",
      "[Parallel(n_jobs=-1)]: Done  25 out of  30 | elapsed:  2.1min remaining:   24.7s\n",
      "Pickling array (shape=(134138,), dtype=int32).\n",
      "Memmaping (shape=(4529189,), dtype=int32) to old file /var/folders/cb/klp2b1n941s2d21364cg5kw40000gp/T/joblib_memmaping_pool_72153_4968335248/72153-4817553808-f2753ddb5135001f1df76a8b39109afb.pkl\n",
      "[CV] alpha=4.09 ......................................................\n",
      "Memmaping (shape=(4529189,), dtype=float64) to old file /var/folders/cb/klp2b1n941s2d21364cg5kw40000gp/T/joblib_memmaping_pool_72153_4968335248/72153-4817553808-1334f304c123afaf203aa3ce6c048b79.pkl\n",
      "Memmaping (shape=(134137,), dtype=float64) to old file /var/folders/cb/klp2b1n941s2d21364cg5kw40000gp/T/joblib_memmaping_pool_72153_4968335248/72153-4817553808-5326a935cc5eb6adc48e90c0692f6ca2.pkl\n",
      "Pickling array (shape=(89425,), dtype=int64).\n",
      "Pickling array (shape=(44712,), dtype=int64).\n",
      "[CV] ............................. alpha=4.08, score=0.338031 -   0.0s\n",
      "[CV] alpha=4.09 ......................................................\n",
      "[Parallel(n_jobs=-1)]: Done  26 out of  30 | elapsed:  2.1min remaining:   19.1s\n",
      "[CV] ............................. alpha=4.08, score=0.202302 -   0.0s\n",
      "[Parallel(n_jobs=-1)]: Done  27 out of  30 | elapsed:  2.1min remaining:   13.9s\n",
      "[CV] ............................. alpha=4.09, score=0.276236 -   0.0s\n",
      "[Parallel(n_jobs=-1)]: Done  28 out of  30 | elapsed:  2.2min remaining:    9.5s\n",
      "[CV] ............................. alpha=4.09, score=0.338023 -   0.0s\n",
      "[CV] ............................. alpha=4.09, score=0.202258 -   0.0s\n",
      "[Parallel(n_jobs=-1)]: Done  30 out of  30 | elapsed:  2.3min remaining:    0.0s\n",
      "[Parallel(n_jobs=-1)]: Done  30 out of  30 | elapsed:  2.3min finished\n",
      "CPU times: user 16.4 s, sys: 904 ms, total: 17.3 s\n",
      "Wall time: 2min 28s\n"
     ]
    },
    {
     "data": {
      "text/plain": [
       "GridSearchCV(cv=3, error_score='raise',\n",
       "       estimator=Ridge(alpha=1.0, copy_X=True, fit_intercept=True, max_iter=None,\n",
       "   normalize=False, random_state=None, solver='auto', tol=0.001),\n",
       "       fit_params={}, iid=True, n_jobs=-1,\n",
       "       param_grid={'alpha': array([ 4.  ,  4.01,  4.02,  4.03,  4.04,  4.05,  4.06,  4.07,  4.08,  4.09])},\n",
       "       pre_dispatch='2*n_jobs', refit=True, return_train_score=True,\n",
       "       scoring=None, verbose=1000)"
      ]
     },
     "execution_count": 61,
     "metadata": {},
     "output_type": "execute_result"
    }
   ],
   "source": [
    "%%time\n",
    "gcv.fit(scipy.sparse.vstack([X_train_new, X_valid_new]), y)"
   ]
  },
  {
   "cell_type": "code",
   "execution_count": 62,
   "metadata": {
    "collapsed": false
   },
   "outputs": [
    {
     "data": {
      "text/plain": [
       "{'alpha': 4.0}"
      ]
     },
     "execution_count": 62,
     "metadata": {},
     "output_type": "execute_result"
    }
   ],
   "source": [
    "gcv.best_params_"
   ]
  },
  {
   "cell_type": "code",
   "execution_count": null,
   "metadata": {
    "collapsed": true
   },
   "outputs": [],
   "source": []
  },
  {
   "cell_type": "code",
   "execution_count": 68,
   "metadata": {
    "collapsed": false
   },
   "outputs": [
    {
     "name": "stdout",
     "output_type": "stream",
     "text": [
      "CPU times: user 5.01 s, sys: 159 ms, total: 5.17 s\n",
      "Wall time: 2.84 s\n"
     ]
    }
   ],
   "source": [
    "%%time\n",
    "model = Ridge(alpha=4, fit_intercept=False)\n",
    "\n",
    "model.fit(scipy.sparse.vstack([X_train_new, X_valid_new]), y)\n",
    "\n",
    "test_preds = model.predict(X_test_new)"
   ]
  },
  {
   "cell_type": "code",
   "execution_count": 69,
   "metadata": {
    "collapsed": false
   },
   "outputs": [],
   "source": [
    "sample_submission = pd.read_csv('habr_data/sample_submission.csv', index_col='url')"
   ]
  },
  {
   "cell_type": "code",
   "execution_count": 70,
   "metadata": {
    "collapsed": false
   },
   "outputs": [
    {
     "data": {
      "text/plain": [
       "array([ 0.40144074, -0.437396  ,  0.53324726, ...,  0.56778979,\n",
       "        0.01722013,  0.41498996])"
      ]
     },
     "execution_count": 70,
     "metadata": {},
     "output_type": "execute_result"
    }
   ],
   "source": [
    "test_preds"
   ]
  },
  {
   "cell_type": "code",
   "execution_count": 71,
   "metadata": {
    "collapsed": false
   },
   "outputs": [
    {
     "data": {
      "text/html": [
       "<div>\n",
       "<table border=\"1\" class=\"dataframe\">\n",
       "  <thead>\n",
       "    <tr style=\"text-align: right;\">\n",
       "      <th></th>\n",
       "      <th>favs_lognorm</th>\n",
       "    </tr>\n",
       "    <tr>\n",
       "      <th>url</th>\n",
       "      <th></th>\n",
       "    </tr>\n",
       "  </thead>\n",
       "  <tbody>\n",
       "    <tr>\n",
       "      <th>https://habrahabr.ru/post/314080/</th>\n",
       "      <td>0.323588</td>\n",
       "    </tr>\n",
       "    <tr>\n",
       "      <th>https://habrahabr.ru/company/plesk/blog/313732/</th>\n",
       "      <td>0.560105</td>\n",
       "    </tr>\n",
       "    <tr>\n",
       "      <th>https://habrahabr.ru/company/etagi/blog/314000/</th>\n",
       "      <td>0.667039</td>\n",
       "    </tr>\n",
       "    <tr>\n",
       "      <th>https://habrahabr.ru/company/knopka/blog/314030/</th>\n",
       "      <td>0.149563</td>\n",
       "    </tr>\n",
       "    <tr>\n",
       "      <th>https://geektimes.ru/company/audiomania/blog/282058/</th>\n",
       "      <td>0.670754</td>\n",
       "    </tr>\n",
       "  </tbody>\n",
       "</table>\n",
       "</div>"
      ],
      "text/plain": [
       "                                                    favs_lognorm\n",
       "url                                                             \n",
       "https://habrahabr.ru/post/314080/                       0.323588\n",
       "https://habrahabr.ru/company/plesk/blog/313732/         0.560105\n",
       "https://habrahabr.ru/company/etagi/blog/314000/         0.667039\n",
       "https://habrahabr.ru/company/knopka/blog/314030/        0.149563\n",
       "https://geektimes.ru/company/audiomania/blog/28...      0.670754"
      ]
     },
     "execution_count": 71,
     "metadata": {},
     "output_type": "execute_result"
    }
   ],
   "source": [
    "sample_submission.head()"
   ]
  },
  {
   "cell_type": "code",
   "execution_count": 72,
   "metadata": {
    "collapsed": false
   },
   "outputs": [],
   "source": [
    "ridge_submission = sample_submission.copy()\n",
    "ridge_submission['favs_lognorm'] = test_preds\n",
    "ridge_submission.to_csv('ridge_baseline_alpha_4.0.csv') #а вот и бейзлайн"
   ]
  },
  {
   "cell_type": "code",
   "execution_count": null,
   "metadata": {
    "collapsed": true
   },
   "outputs": [],
   "source": []
  }
 ],
 "metadata": {
  "anaconda-cloud": {},
  "kernelspec": {
   "display_name": "Python [Root]",
   "language": "python",
   "name": "Python [Root]"
  },
  "language_info": {
   "codemirror_mode": {
    "name": "ipython",
    "version": 2
   },
   "file_extension": ".py",
   "mimetype": "text/x-python",
   "name": "python",
   "nbconvert_exporter": "python",
   "pygments_lexer": "ipython2",
   "version": "2.7.11"
  }
 },
 "nbformat": 4,
 "nbformat_minor": 0
}
